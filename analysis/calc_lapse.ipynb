{
 "cells": [
  {
   "cell_type": "code",
   "execution_count": 1,
   "id": "51b96828-a603-4bf3-862c-396712c56c3a",
   "metadata": {},
   "outputs": [],
   "source": [
    "import numpy as np\n",
    "import xarray as xr"
   ]
  },
  {
   "cell_type": "code",
   "execution_count": 2,
   "id": "009bd099-dbf5-4667-b80a-59dd6a988089",
   "metadata": {
    "scrolled": true
   },
   "outputs": [],
   "source": [
    "# Global path = \"/global/scratch/users/adac/Slope_Flow/SlopeFlow/WRFV3/LES3/\"\n",
    "# Template file = \"wrfout_d01_2014-03-21_12:00:00\"\n",
    "# Template time = b'2014-03-21_12:00:00' i.e. it is byte string from the wrfout\n",
    "\n",
    "time = b'2014-03-22_04:20:00'\n",
    "varStr = 'T'\n",
    "\n",
    "paths = [ \"../WRFV3/LES2\", \"../WRFV3/LES3\", \"../WRFV3/LES4\"]\n",
    "file= \"wrfout_d01_2014-03-21_12:00:00\""
   ]
  },
  {
   "cell_type": "code",
   "execution_count": 3,
   "id": "8a388bb2-d1f2-45a0-888c-8a152f60f4b7",
   "metadata": {},
   "outputs": [
    {
     "name": "stdout",
     "output_type": "stream",
     "text": [
      "308.8578824996948 K at 102.88107 m\n",
      "307.79482412338257 K at 52.412003 m\n",
      "0.021063561645947852 K/m in LES2\n",
      "\n",
      "308.86263370513916 K at 102.93826 m\n",
      "307.8250164985657 K at 52.428833 m\n",
      "0.020543039348846256 K/m in LES3\n",
      "\n",
      "309.0353727340698 K at 102.996704 m\n",
      "307.9111485481262 K at 52.447754 m\n",
      "0.022240307298169268 K/m in LES4\n",
      "\n"
     ]
    }
   ],
   "source": [
    "ktop = 15\n",
    "kbot = 10\n",
    "\n",
    "for i, path in enumerate(paths):\n",
    "    ds = xr.open_dataset(paths[i]+'/'+file)#+'.nc')\n",
    "    itime = ds['Times'].values.tolist().index(time)\n",
    "        # np.interp(X, xcv, .values)\n",
    "    \n",
    "    z_w = ( ds['PHB'][itime] + ds['PH'][itime] ) / 9.81 - ds['HGT'][itime]\n",
    "    z_cent = 0.5 * ( z_w[:-1].values + z_w[1:] )\n",
    "\n",
    "    Ttop = ds['T'][itime,ktop].mean(dim=(\"south_north\",\"west_east\")) + 300\n",
    "    ztop = z_cent[ktop].mean(dim=(\"south_north\",\"west_east\"))\n",
    "    \n",
    "    Tbot = ds['T'][itime,kbot].mean(dim=(\"south_north\",\"west_east\")) + 300\n",
    "    zbot = z_cent[kbot].mean(dim=(\"south_north\",\"west_east\"))\n",
    "    \n",
    "    print(str(Ttop.values)+' K at '+str(ztop.values)+' m')\n",
    "    print(str(Tbot.values)+' K at '+str(zbot.values)+' m')\n",
    "\n",
    "    lapse = ( Ttop - Tbot ) / ( ztop - zbot )\n",
    "    \n",
    "    print(str(lapse.values)+' K/m in ' + path[-4:]+'\\n')   "
   ]
  },
  {
   "cell_type": "code",
   "execution_count": 4,
   "id": "363c791b-0c02-4f19-81ad-67e67595b5b5",
   "metadata": {},
   "outputs": [
    {
     "name": "stdout",
     "output_type": "stream",
     "text": [
      "310.30555057525635 K at 255.4662 m\n",
      "307.79482412338257 K at 52.412003 m\n",
      "0.012364809304775704 K/m in LES2\n",
      "\n",
      "310.2621545791626 K at 255.6134 m\n",
      "307.8250164985657 K at 52.428833 m\n",
      "0.011994700566330308 K/m in LES3\n",
      "\n",
      "310.33348083496094 K at 255.78204 m\n",
      "307.9111485481262 K at 52.447754 m\n",
      "0.011913053583762403 K/m in LES4\n",
      "\n"
     ]
    }
   ],
   "source": [
    "ktop = 23\n",
    "kbot = 10\n",
    "\n",
    "for i, path in enumerate(paths):\n",
    "    ds = xr.open_dataset(paths[i]+'/'+file)#+'.nc')\n",
    "    itime = ds['Times'].values.tolist().index(time)\n",
    "        # np.interp(X, xcv, .values)\n",
    "    \n",
    "    z_w = ( ds['PHB'][itime] + ds['PH'][itime] ) / 9.81 - ds['HGT'][itime]\n",
    "    z_cent = 0.5 * ( z_w[:-1].values + z_w[1:] )\n",
    "\n",
    "    Ttop = ds['T'][itime,ktop].mean(dim=(\"south_north\",\"west_east\")) + 300\n",
    "    ztop = z_cent[ktop].mean(dim=(\"south_north\",\"west_east\"))\n",
    "    \n",
    "    Tbot = ds['T'][itime,kbot].mean(dim=(\"south_north\",\"west_east\")) + 300\n",
    "    zbot = z_cent[kbot].mean(dim=(\"south_north\",\"west_east\"))\n",
    "    \n",
    "    print(str(Ttop.values)+' K at '+str(ztop.values)+' m')\n",
    "    print(str(Tbot.values)+' K at '+str(zbot.values)+' m')\n",
    "\n",
    "    lapse = ( Ttop - Tbot ) / ( ztop - zbot )\n",
    "    \n",
    "    print(str(lapse.values)+' K/m in ' + path[-4:]+'\\n')   \n"
   ]
  }
 ],
 "metadata": {
  "kernelspec": {
   "display_name": "Python 3 (ipykernel)",
   "language": "python",
   "name": "python3"
  },
  "language_info": {
   "codemirror_mode": {
    "name": "ipython",
    "version": 3
   },
   "file_extension": ".py",
   "mimetype": "text/x-python",
   "name": "python",
   "nbconvert_exporter": "python",
   "pygments_lexer": "ipython3",
   "version": "3.11.7"
  }
 },
 "nbformat": 4,
 "nbformat_minor": 5
}
