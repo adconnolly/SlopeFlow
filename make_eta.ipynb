{
 "cells": [
  {
   "cell_type": "code",
   "execution_count": 1,
   "id": "f4a4a198-ade2-432f-824c-d79442d10490",
   "metadata": {},
   "outputs": [],
   "source": [
    "import numpy as np"
   ]
  },
  {
   "cell_type": "code",
   "execution_count": 2,
   "id": "1aa10a40-678d-4e51-a6b9-1da159a31a79",
   "metadata": {},
   "outputs": [
    {
     "name": "stdout",
     "output_type": "stream",
     "text": [
      "Number of levels 69\n",
      "dz_max 500.0\n",
      "Model top 11629.158431034875\n"
     ]
    }
   ],
   "source": [
    "dz_min = 3\n",
    "dz_max = 500     # When stop stretching\n",
    "z_top = 12000\n",
    "\n",
    "dz = dz_min\n",
    "z1= [0, dz_min]\n",
    "r=1.1;\n",
    "while dz<dz_max:\n",
    "  z1.append(z1[-1]+dz)\n",
    "  dz=dz*r\n",
    "dz=dz_max\n",
    "while z1[-1]<z_top-dz:\n",
    "  z1.append(z1[-1]+dz)\n",
    "z1 = np.array(z1)\n",
    "print('Number of levels '+str(len(z1)))\n",
    "print('dz_max '+str(z1[-1]-z1[-2]))\n",
    "print('Model top '+str(z1[-1]))"
   ]
  },
  {
   "cell_type": "code",
   "execution_count": 3,
   "id": "2dd98653-3aa9-409b-a742-4291b111bb6c",
   "metadata": {},
   "outputs": [],
   "source": [
    "# z2= [0, dz_min]\n",
    "# dz = dz_min\n",
    "# r=1.05;\n",
    "# while z2[-1]<z_top:\n",
    "#   z2.append(z2[-1]+dz)\n",
    "#   dz=dz*r\n",
    "# print('Number of levels '+str(len(z2)))\n",
    "# print('dz_max '+str(z2[-1]-z2[-2]))"
   ]
  },
  {
   "cell_type": "code",
   "execution_count": 4,
   "id": "fd51baba-7bdf-4135-88a2-99dba03cfb41",
   "metadata": {},
   "outputs": [
    {
     "name": "stdout",
     "output_type": "stream",
     "text": [
      "Ptop 26580.436618605574 Pa\n"
     ]
    }
   ],
   "source": [
    "p0 = 1e5\n",
    "T = 300 \n",
    "R = 287.0\n",
    "g = 9.81\n",
    "H = R * T / g\n",
    "p=p0*np.exp(-z1/H)\n",
    "ptop = p[-1]\n",
    "print('Ptop '+str(ptop)+' Pa')"
   ]
  },
  {
   "cell_type": "code",
   "execution_count": 5,
   "id": "e3d00c43-ad4d-4882-8c2d-8ca52b96a9f3",
   "metadata": {},
   "outputs": [
    {
     "name": "stdout",
     "output_type": "stream",
     "text": [
      "0 310.0\n",
      "25 305.0\n",
      "1025 308.0\n",
      "2025 311.0\n",
      "3025 314.0\n",
      "4025 317.0\n",
      "5025 320.0\n",
      "6025 323.0\n",
      "7025 326.0\n",
      "8025 329.0\n",
      "9025 332.0\n",
      "10025 335.0\n",
      "11025 338.0\n",
      "12025 341.0\n"
     ]
    }
   ],
   "source": [
    "Tskin = 310\n",
    "T_min = 305\n",
    "z_min = 25\n",
    "lapse = 3 # K/km\n",
    "# z_top=14025\n",
    "zinput = np.hstack( (0, np.arange(z_min,z_min+z_top+1000,1000)))\n",
    "Tinput = np.hstack( (Tskin, np.arange( T_min, T_min + lapse * (z_top+1000)/1000, 3 ) ) )\n",
    "for i,z in enumerate(zinput):\n",
    "    print(str(z)+' '+str(Tinput[i]))"
   ]
  },
  {
   "cell_type": "code",
   "execution_count": 6,
   "id": "50b35cc3-f10f-4be8-b4f3-a4fba61b96be",
   "metadata": {},
   "outputs": [],
   "source": [
    "# import matplotlib.pyplot as plt\n",
    "# plt.plot(Tinput[:3],zinput[:3])"
   ]
  },
  {
   "cell_type": "code",
   "execution_count": 7,
   "id": "bf7861c1-c019-47de-b493-b45b0f745146",
   "metadata": {},
   "outputs": [],
   "source": [
    "eta = (p-ptop)/(p0-ptop)"
   ]
  },
  {
   "cell_type": "code",
   "execution_count": 8,
   "id": "3f619ee4-ae86-4c8a-bfee-cbdfdee3cf45",
   "metadata": {},
   "outputs": [
    {
     "data": {
      "text/plain": [
       "array([1.        , 0.99953452, 0.9990692 , 0.99855753, 0.99799492,\n",
       "       0.99737631, 0.99669617, 0.9959484 , 0.99512634, 0.99422264,\n",
       "       0.99322927, 0.9921374 , 0.99093736, 0.98961855, 0.98816934,\n",
       "       0.986577  , 0.9848276 , 0.98290587, 0.98079515, 0.97847717,\n",
       "       0.97593202, 0.97313793, 0.97007118, 0.96670589, 0.96301388,\n",
       "       0.95896452, 0.95452452, 0.94965775, 0.94432508, 0.93848418,\n",
       "       0.93208935, 0.92509135, 0.91743725, 0.90907029, 0.89992983,\n",
       "       0.88995122, 0.87906585, 0.86720123, 0.85428111, 0.84022576,\n",
       "       0.82495241, 0.80837573, 0.79040864, 0.77096324, 0.74995205,\n",
       "       0.72728951, 0.7028938 , 0.67668909, 0.64860805, 0.61859493,\n",
       "       0.58660893, 0.55262803, 0.51665323, 0.47871304, 0.43886818,\n",
       "       0.39721639, 0.35517186, 0.3154556 , 0.27793868, 0.24249932,\n",
       "       0.20902245, 0.17739941, 0.14752753, 0.11930985, 0.09265476,\n",
       "       0.06747573, 0.04369102, 0.02122343, 0.        ])"
      ]
     },
     "execution_count": 8,
     "metadata": {},
     "output_type": "execute_result"
    }
   ],
   "source": [
    "eta"
   ]
  },
  {
   "cell_type": "code",
   "execution_count": null,
   "id": "99ce677f-9f5b-4a50-8bbd-ef73e2f0cce4",
   "metadata": {},
   "outputs": [],
   "source": []
  }
 ],
 "metadata": {
  "kernelspec": {
   "display_name": "Python 3 (ipykernel)",
   "language": "python",
   "name": "python3"
  },
  "language_info": {
   "codemirror_mode": {
    "name": "ipython",
    "version": 3
   },
   "file_extension": ".py",
   "mimetype": "text/x-python",
   "name": "python",
   "nbconvert_exporter": "python",
   "pygments_lexer": "ipython3",
   "version": "3.11.7"
  }
 },
 "nbformat": 4,
 "nbformat_minor": 5
}
