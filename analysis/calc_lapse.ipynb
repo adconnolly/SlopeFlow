{
 "cells": [
  {
   "cell_type": "code",
   "execution_count": 1,
   "id": "51b96828-a603-4bf3-862c-396712c56c3a",
   "metadata": {},
   "outputs": [],
   "source": [
    "import numpy as np\n",
    "import xarray as xr"
   ]
  },
  {
   "cell_type": "code",
   "execution_count": 2,
   "id": "009bd099-dbf5-4667-b80a-59dd6a988089",
   "metadata": {
    "scrolled": true
   },
   "outputs": [],
   "source": [
    "# Global path = \"/global/scratch/users/adac/Slope_Flow/SlopeFlow/WRFV3/LES3/\"\n",
    "# Template file = \"wrfout_d01_2014-03-21_12:00:00\"\n",
    "# Template time = b'2014-03-21_12:00:00' i.e. it is byte string from the wrfout\n",
    "\n",
    "time = b'2014-03-22_04:20:00'\n",
    "varStr = 'T'\n",
    "\n",
    "paths = [ \"../WRFV3/LES2\", \"../WRFV3/LES3\", \"../WRFV3/LES4\"]\n",
    "file= \"wrfout_d01_2014-03-21_12:00:00\""
   ]
  },
  {
   "cell_type": "code",
   "execution_count": 3,
   "id": "dc48c4f2-0165-4e43-8941-2daabb34e561",
   "metadata": {},
   "outputs": [
    {
     "name": "stdout",
     "output_type": "stream",
     "text": [
      "309.7319145202637 K at 164.7822 m\n",
      "308.20277881622314 K at 69.75928 m\n",
      "0.0160922830506749 K/m in LES2\n",
      "\n",
      "309.7071876525879 K at 164.87921 m\n",
      "308.25078201293945 K at 69.79026 m\n",
      "0.015316244659705915 K/m in LES3\n",
      "\n",
      "309.82858085632324 K at 164.98927 m\n",
      "308.37112617492676 K at 69.820816 m\n",
      "0.015314472114619943 K/m in LES4\n",
      "\n"
     ]
    }
   ],
   "source": [
    "ktop = 19\n",
    "kbot = 12\n",
    "\n",
    "for i, path in enumerate(paths):\n",
    "    ds = xr.open_dataset(paths[i]+'/'+file)#+'.nc')\n",
    "    itime = ds['Times'].values.tolist().index(time)\n",
    "        # np.interp(X, xcv, .values)\n",
    "    \n",
    "    z_w = ( ds['PHB'][itime] + ds['PH'][itime] ) / 9.81 - ds['HGT'][itime]\n",
    "    z_cent = 0.5 * ( z_w[:-1].values + z_w[1:] )\n",
    "\n",
    "    Ttop = ds['T'][itime,ktop].mean(dim=(\"south_north\",\"west_east\")) + 300\n",
    "    ztop = z_cent[ktop].mean(dim=(\"south_north\",\"west_east\"))\n",
    "    \n",
    "    Tbot = ds['T'][itime,kbot].mean(dim=(\"south_north\",\"west_east\")) + 300\n",
    "    zbot = z_cent[kbot].mean(dim=(\"south_north\",\"west_east\"))\n",
    "    \n",
    "    print(str(Ttop.values)+' K at '+str(ztop.values)+' m')\n",
    "    print(str(Tbot.values)+' K at '+str(zbot.values)+' m')\n",
    "\n",
    "    lapse = ( Ttop - Tbot ) / ( ztop - zbot )\n",
    "    \n",
    "    print(str(lapse.values)+' K/m in ' + path[-4:]+'\\n')   \n"
   ]
  },
  {
   "cell_type": "code",
   "execution_count": null,
   "id": "506ed818-673a-492d-b1bb-07dc6dcbf0a8",
   "metadata": {},
   "outputs": [],
   "source": []
  }
 ],
 "metadata": {
  "kernelspec": {
   "display_name": "Python 3 (ipykernel)",
   "language": "python",
   "name": "python3"
  },
  "language_info": {
   "codemirror_mode": {
    "name": "ipython",
    "version": 3
   },
   "file_extension": ".py",
   "mimetype": "text/x-python",
   "name": "python",
   "nbconvert_exporter": "python",
   "pygments_lexer": "ipython3",
   "version": "3.11.7"
  }
 },
 "nbformat": 4,
 "nbformat_minor": 5
}
